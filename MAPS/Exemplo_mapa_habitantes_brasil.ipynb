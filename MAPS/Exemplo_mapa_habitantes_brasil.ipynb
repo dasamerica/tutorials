{
  "nbformat": 4,
  "nbformat_minor": 0,
  "metadata": {
    "colab": {
      "name": "Exemplo_mapa_habitantes_brasil.ipynb",
      "provenance": [],
      "collapsed_sections": [],
      "toc_visible": true
    },
    "kernelspec": {
      "name": "python3",
      "display_name": "Python 3"
    }
  },
  "cells": [
    {
      "cell_type": "markdown",
      "metadata": {
        "id": "wshJgzzaVTJZ"
      },
      "source": [
        "\n",
        "# **Utilizado como referencia tutorial do Medium.com e adaptado para mesorregiões por Daniela América com dados de habitantes**\n",
        "\n",
        "# **Exemplo utilizado: Análise e Visualização Espacial de Dados Reais em Python com Folium (Estudo sobre o Fluxo de Voos nas Capitais do Nordeste Brasileiro).**"
      ]
    },
    {
      "cell_type": "code",
      "metadata": {
        "colab": {
          "base_uri": "https://localhost:8080/"
        },
        "id": "Zkob4E2MVQVc",
        "outputId": "b2750ed5-bab2-4587-cd4f-bf366f16b750"
      },
      "source": [
        "#To get the text file used :\n",
        "\n",
        "!wget https://raw.githubusercontent.com/dasamerica/tutorials/master/MAPS/mesorregiao.json\n",
        "\n",
        "!wget https://raw.githubusercontent.com/dasamerica/tutorials/master/MAPS/tutorial_meso_2011_POP.csv\n",
        "\n",
        "!wget https://raw.githubusercontent.com/dasamerica/tutorials/master/MAPS/tutorial_meso_2019_POP.csv"
      ],
      "execution_count": 1,
      "outputs": [
        {
          "output_type": "stream",
          "text": [
            "--2021-05-09 23:55:40--  https://raw.githubusercontent.com/dasamerica/tutorials/master/MAPS/mesorregiao.json\n",
            "Resolving raw.githubusercontent.com (raw.githubusercontent.com)... 185.199.108.133, 185.199.109.133, 185.199.110.133, ...\n",
            "Connecting to raw.githubusercontent.com (raw.githubusercontent.com)|185.199.108.133|:443... connected.\n",
            "HTTP request sent, awaiting response... 200 OK\n",
            "Length: 6300215 (6.0M) [text/plain]\n",
            "Saving to: ‘mesorregiao.json’\n",
            "\n",
            "\rmesorregiao.json      0%[                    ]       0  --.-KB/s               \rmesorregiao.json    100%[===================>]   6.01M  --.-KB/s    in 0.05s   \n",
            "\n",
            "2021-05-09 23:55:41 (111 MB/s) - ‘mesorregiao.json’ saved [6300215/6300215]\n",
            "\n",
            "--2021-05-09 23:55:41--  https://raw.githubusercontent.com/dasamerica/tutorials/master/MAPS/tutorial_meso_2011_POP.csv\n",
            "Resolving raw.githubusercontent.com (raw.githubusercontent.com)... 185.199.108.133, 185.199.110.133, 185.199.111.133, ...\n",
            "Connecting to raw.githubusercontent.com (raw.githubusercontent.com)|185.199.108.133|:443... connected.\n",
            "HTTP request sent, awaiting response... 200 OK\n",
            "Length: 5435 (5.3K) [text/plain]\n",
            "Saving to: ‘tutorial_meso_2011_POP.csv’\n",
            "\n",
            "tutorial_meso_2011_ 100%[===================>]   5.31K  --.-KB/s    in 0s      \n",
            "\n",
            "2021-05-09 23:55:41 (45.3 MB/s) - ‘tutorial_meso_2011_POP.csv’ saved [5435/5435]\n",
            "\n",
            "--2021-05-09 23:55:41--  https://raw.githubusercontent.com/dasamerica/tutorials/master/MAPS/tutorial_meso_2019_POP.csv\n",
            "Resolving raw.githubusercontent.com (raw.githubusercontent.com)... 185.199.108.133, 185.199.109.133, 185.199.110.133, ...\n",
            "Connecting to raw.githubusercontent.com (raw.githubusercontent.com)|185.199.108.133|:443... connected.\n",
            "HTTP request sent, awaiting response... 200 OK\n",
            "Length: 5452 (5.3K) [text/plain]\n",
            "Saving to: ‘tutorial_meso_2019_POP.csv’\n",
            "\n",
            "tutorial_meso_2019_ 100%[===================>]   5.32K  --.-KB/s    in 0s      \n",
            "\n",
            "2021-05-09 23:55:41 (45.5 MB/s) - ‘tutorial_meso_2019_POP.csv’ saved [5452/5452]\n",
            "\n"
          ],
          "name": "stdout"
        }
      ]
    },
    {
      "cell_type": "markdown",
      "metadata": {
        "id": "KTgO1mONXOGh"
      },
      "source": [
        "Carregar as bibliotecas para geração de mapas e do arquivo PNG"
      ]
    },
    {
      "cell_type": "code",
      "metadata": {
        "id": "zHh7L4PDGMC3",
        "colab": {
          "base_uri": "https://localhost:8080/"
        },
        "outputId": "6355f6c5-6fd8-457b-ee56-87c5df68ac10"
      },
      "source": [
        "#Criado por Daniela A. Silva - Data: 09-Maio-21\n",
        "#Exemplo: https://medium.com/@louisartur53/an%C3%A1lise-e-visualiza%C3%A7%C3%A3o-espacial-de-dados-reais-em-python-com-folium-cd4650fc5930\n",
        "\n",
        "\n",
        "try:\n",
        "  import matpandas\n",
        "except:\n",
        "  !pip install geopandas\n",
        "\n",
        "\n",
        "import folium\n",
        "import pandas as pd\n",
        "import json\n",
        "import geopandas as gpd\n",
        "import branca.colormap as cm\n",
        "import branca\n",
        "\n",
        "import os\n",
        "import time\n",
        "\n",
        "\n",
        "try:\n",
        "  import selenium\n",
        "except:\n",
        "  !pip install selenium\n",
        "\n",
        "from selenium import webdriver\n",
        "\n",
        "\n",
        "!apt-get update\n",
        "!apt install chromium-chromedriver\n",
        "!cp /usr/lib/chromium-browser/chromedriver /usr/bin\n",
        "\n",
        "\n",
        "\n"
      ],
      "execution_count": 2,
      "outputs": [
        {
          "output_type": "stream",
          "text": [
            "Collecting geopandas\n",
            "\u001b[?25l  Downloading https://files.pythonhosted.org/packages/d7/bf/e9cefb69d39155d122b6ddca53893b61535fa6ffdad70bf5ef708977f53f/geopandas-0.9.0-py2.py3-none-any.whl (994kB)\n",
            "\r\u001b[K     |▎                               | 10kB 13.7MB/s eta 0:00:01\r\u001b[K     |▋                               | 20kB 19.0MB/s eta 0:00:01\r\u001b[K     |█                               | 30kB 22.5MB/s eta 0:00:01\r\u001b[K     |█▎                              | 40kB 25.0MB/s eta 0:00:01\r\u001b[K     |█▋                              | 51kB 24.4MB/s eta 0:00:01\r\u001b[K     |██                              | 61kB 24.5MB/s eta 0:00:01\r\u001b[K     |██▎                             | 71kB 20.7MB/s eta 0:00:01\r\u001b[K     |██▋                             | 81kB 18.3MB/s eta 0:00:01\r\u001b[K     |███                             | 92kB 18.6MB/s eta 0:00:01\r\u001b[K     |███▎                            | 102kB 19.2MB/s eta 0:00:01\r\u001b[K     |███▋                            | 112kB 19.2MB/s eta 0:00:01\r\u001b[K     |████                            | 122kB 19.2MB/s eta 0:00:01\r\u001b[K     |████▎                           | 133kB 19.2MB/s eta 0:00:01\r\u001b[K     |████▋                           | 143kB 19.2MB/s eta 0:00:01\r\u001b[K     |█████                           | 153kB 19.2MB/s eta 0:00:01\r\u001b[K     |█████▎                          | 163kB 19.2MB/s eta 0:00:01\r\u001b[K     |█████▋                          | 174kB 19.2MB/s eta 0:00:01\r\u001b[K     |██████                          | 184kB 19.2MB/s eta 0:00:01\r\u001b[K     |██████▎                         | 194kB 19.2MB/s eta 0:00:01\r\u001b[K     |██████▋                         | 204kB 19.2MB/s eta 0:00:01\r\u001b[K     |███████                         | 215kB 19.2MB/s eta 0:00:01\r\u001b[K     |███████▎                        | 225kB 19.2MB/s eta 0:00:01\r\u001b[K     |███████▋                        | 235kB 19.2MB/s eta 0:00:01\r\u001b[K     |████████                        | 245kB 19.2MB/s eta 0:00:01\r\u001b[K     |████████▎                       | 256kB 19.2MB/s eta 0:00:01\r\u001b[K     |████████▋                       | 266kB 19.2MB/s eta 0:00:01\r\u001b[K     |█████████                       | 276kB 19.2MB/s eta 0:00:01\r\u001b[K     |█████████▎                      | 286kB 19.2MB/s eta 0:00:01\r\u001b[K     |█████████▌                      | 296kB 19.2MB/s eta 0:00:01\r\u001b[K     |█████████▉                      | 307kB 19.2MB/s eta 0:00:01\r\u001b[K     |██████████▏                     | 317kB 19.2MB/s eta 0:00:01\r\u001b[K     |██████████▌                     | 327kB 19.2MB/s eta 0:00:01\r\u001b[K     |██████████▉                     | 337kB 19.2MB/s eta 0:00:01\r\u001b[K     |███████████▏                    | 348kB 19.2MB/s eta 0:00:01\r\u001b[K     |███████████▌                    | 358kB 19.2MB/s eta 0:00:01\r\u001b[K     |███████████▉                    | 368kB 19.2MB/s eta 0:00:01\r\u001b[K     |████████████▏                   | 378kB 19.2MB/s eta 0:00:01\r\u001b[K     |████████████▌                   | 389kB 19.2MB/s eta 0:00:01\r\u001b[K     |████████████▉                   | 399kB 19.2MB/s eta 0:00:01\r\u001b[K     |█████████████▏                  | 409kB 19.2MB/s eta 0:00:01\r\u001b[K     |█████████████▌                  | 419kB 19.2MB/s eta 0:00:01\r\u001b[K     |█████████████▉                  | 430kB 19.2MB/s eta 0:00:01\r\u001b[K     |██████████████▏                 | 440kB 19.2MB/s eta 0:00:01\r\u001b[K     |██████████████▌                 | 450kB 19.2MB/s eta 0:00:01\r\u001b[K     |██████████████▉                 | 460kB 19.2MB/s eta 0:00:01\r\u001b[K     |███████████████▏                | 471kB 19.2MB/s eta 0:00:01\r\u001b[K     |███████████████▌                | 481kB 19.2MB/s eta 0:00:01\r\u001b[K     |███████████████▉                | 491kB 19.2MB/s eta 0:00:01\r\u001b[K     |████████████████▏               | 501kB 19.2MB/s eta 0:00:01\r\u001b[K     |████████████████▌               | 512kB 19.2MB/s eta 0:00:01\r\u001b[K     |████████████████▉               | 522kB 19.2MB/s eta 0:00:01\r\u001b[K     |█████████████████▏              | 532kB 19.2MB/s eta 0:00:01\r\u001b[K     |█████████████████▌              | 542kB 19.2MB/s eta 0:00:01\r\u001b[K     |█████████████████▉              | 552kB 19.2MB/s eta 0:00:01\r\u001b[K     |██████████████████▏             | 563kB 19.2MB/s eta 0:00:01\r\u001b[K     |██████████████████▌             | 573kB 19.2MB/s eta 0:00:01\r\u001b[K     |██████████████████▊             | 583kB 19.2MB/s eta 0:00:01\r\u001b[K     |███████████████████             | 593kB 19.2MB/s eta 0:00:01\r\u001b[K     |███████████████████▍            | 604kB 19.2MB/s eta 0:00:01\r\u001b[K     |███████████████████▊            | 614kB 19.2MB/s eta 0:00:01\r\u001b[K     |████████████████████            | 624kB 19.2MB/s eta 0:00:01\r\u001b[K     |████████████████████▍           | 634kB 19.2MB/s eta 0:00:01\r\u001b[K     |████████████████████▊           | 645kB 19.2MB/s eta 0:00:01\r\u001b[K     |█████████████████████           | 655kB 19.2MB/s eta 0:00:01\r\u001b[K     |█████████████████████▍          | 665kB 19.2MB/s eta 0:00:01\r\u001b[K     |█████████████████████▊          | 675kB 19.2MB/s eta 0:00:01\r\u001b[K     |██████████████████████          | 686kB 19.2MB/s eta 0:00:01\r\u001b[K     |██████████████████████▍         | 696kB 19.2MB/s eta 0:00:01\r\u001b[K     |██████████████████████▊         | 706kB 19.2MB/s eta 0:00:01\r\u001b[K     |███████████████████████         | 716kB 19.2MB/s eta 0:00:01\r\u001b[K     |███████████████████████▍        | 727kB 19.2MB/s eta 0:00:01\r\u001b[K     |███████████████████████▊        | 737kB 19.2MB/s eta 0:00:01\r\u001b[K     |████████████████████████        | 747kB 19.2MB/s eta 0:00:01\r\u001b[K     |████████████████████████▍       | 757kB 19.2MB/s eta 0:00:01\r\u001b[K     |████████████████████████▊       | 768kB 19.2MB/s eta 0:00:01\r\u001b[K     |█████████████████████████       | 778kB 19.2MB/s eta 0:00:01\r\u001b[K     |█████████████████████████▍      | 788kB 19.2MB/s eta 0:00:01\r\u001b[K     |█████████████████████████▊      | 798kB 19.2MB/s eta 0:00:01\r\u001b[K     |██████████████████████████      | 808kB 19.2MB/s eta 0:00:01\r\u001b[K     |██████████████████████████▍     | 819kB 19.2MB/s eta 0:00:01\r\u001b[K     |██████████████████████████▊     | 829kB 19.2MB/s eta 0:00:01\r\u001b[K     |███████████████████████████     | 839kB 19.2MB/s eta 0:00:01\r\u001b[K     |███████████████████████████▍    | 849kB 19.2MB/s eta 0:00:01\r\u001b[K     |███████████████████████████▊    | 860kB 19.2MB/s eta 0:00:01\r\u001b[K     |████████████████████████████    | 870kB 19.2MB/s eta 0:00:01\r\u001b[K     |████████████████████████████▎   | 880kB 19.2MB/s eta 0:00:01\r\u001b[K     |████████████████████████████▋   | 890kB 19.2MB/s eta 0:00:01\r\u001b[K     |█████████████████████████████   | 901kB 19.2MB/s eta 0:00:01\r\u001b[K     |█████████████████████████████▎  | 911kB 19.2MB/s eta 0:00:01\r\u001b[K     |█████████████████████████████▋  | 921kB 19.2MB/s eta 0:00:01\r\u001b[K     |██████████████████████████████  | 931kB 19.2MB/s eta 0:00:01\r\u001b[K     |██████████████████████████████▎ | 942kB 19.2MB/s eta 0:00:01\r\u001b[K     |██████████████████████████████▋ | 952kB 19.2MB/s eta 0:00:01\r\u001b[K     |███████████████████████████████ | 962kB 19.2MB/s eta 0:00:01\r\u001b[K     |███████████████████████████████▎| 972kB 19.2MB/s eta 0:00:01\r\u001b[K     |███████████████████████████████▋| 983kB 19.2MB/s eta 0:00:01\r\u001b[K     |████████████████████████████████| 993kB 19.2MB/s eta 0:00:01\r\u001b[K     |████████████████████████████████| 1.0MB 19.2MB/s \n",
            "\u001b[?25hRequirement already satisfied: pandas>=0.24.0 in /usr/local/lib/python3.7/dist-packages (from geopandas) (1.1.5)\n",
            "Requirement already satisfied: shapely>=1.6 in /usr/local/lib/python3.7/dist-packages (from geopandas) (1.7.1)\n",
            "Collecting fiona>=1.8\n",
            "\u001b[?25l  Downloading https://files.pythonhosted.org/packages/ea/2a/404b22883298a3efe9c6ef8d67acbf2c38443fa366ee9cd4cd34e17626ea/Fiona-1.8.19-cp37-cp37m-manylinux1_x86_64.whl (15.3MB)\n",
            "\u001b[K     |████████████████████████████████| 15.3MB 267kB/s \n",
            "\u001b[?25hCollecting pyproj>=2.2.0\n",
            "\u001b[?25l  Downloading https://files.pythonhosted.org/packages/b1/72/d52e9ca81caef056062d71991b0e9b1d16af042245627c5d0e4916a36c4f/pyproj-3.0.1-cp37-cp37m-manylinux2010_x86_64.whl (6.5MB)\n",
            "\u001b[K     |████████████████████████████████| 6.5MB 25.4MB/s \n",
            "\u001b[?25hRequirement already satisfied: python-dateutil>=2.7.3 in /usr/local/lib/python3.7/dist-packages (from pandas>=0.24.0->geopandas) (2.8.1)\n",
            "Requirement already satisfied: numpy>=1.15.4 in /usr/local/lib/python3.7/dist-packages (from pandas>=0.24.0->geopandas) (1.19.5)\n",
            "Requirement already satisfied: pytz>=2017.2 in /usr/local/lib/python3.7/dist-packages (from pandas>=0.24.0->geopandas) (2018.9)\n",
            "Requirement already satisfied: click<8,>=4.0 in /usr/local/lib/python3.7/dist-packages (from fiona>=1.8->geopandas) (7.1.2)\n",
            "Requirement already satisfied: attrs>=17 in /usr/local/lib/python3.7/dist-packages (from fiona>=1.8->geopandas) (20.3.0)\n",
            "Requirement already satisfied: six>=1.7 in /usr/local/lib/python3.7/dist-packages (from fiona>=1.8->geopandas) (1.15.0)\n",
            "Collecting munch\n",
            "  Downloading https://files.pythonhosted.org/packages/cc/ab/85d8da5c9a45e072301beb37ad7f833cd344e04c817d97e0cc75681d248f/munch-2.5.0-py2.py3-none-any.whl\n",
            "Collecting cligj>=0.5\n",
            "  Downloading https://files.pythonhosted.org/packages/42/1e/947eadf10d6804bf276eb8a038bd5307996dceaaa41cfd21b7a15ec62f5d/cligj-0.7.1-py3-none-any.whl\n",
            "Collecting click-plugins>=1.0\n",
            "  Downloading https://files.pythonhosted.org/packages/e9/da/824b92d9942f4e472702488857914bdd50f73021efea15b4cad9aca8ecef/click_plugins-1.1.1-py2.py3-none-any.whl\n",
            "Requirement already satisfied: certifi in /usr/local/lib/python3.7/dist-packages (from fiona>=1.8->geopandas) (2020.12.5)\n",
            "Installing collected packages: munch, cligj, click-plugins, fiona, pyproj, geopandas\n",
            "Successfully installed click-plugins-1.1.1 cligj-0.7.1 fiona-1.8.19 geopandas-0.9.0 munch-2.5.0 pyproj-3.0.1\n",
            "Collecting selenium\n",
            "\u001b[?25l  Downloading https://files.pythonhosted.org/packages/80/d6/4294f0b4bce4de0abf13e17190289f9d0613b0a44e5dd6a7f5ca98459853/selenium-3.141.0-py2.py3-none-any.whl (904kB)\n",
            "\u001b[K     |████████████████████████████████| 911kB 23.7MB/s \n",
            "\u001b[?25hRequirement already satisfied: urllib3 in /usr/local/lib/python3.7/dist-packages (from selenium) (1.24.3)\n",
            "Installing collected packages: selenium\n",
            "Successfully installed selenium-3.141.0\n",
            "Get:1 https://cloud.r-project.org/bin/linux/ubuntu bionic-cran40/ InRelease [3,626 B]\n",
            "Ign:2 https://developer.download.nvidia.com/compute/cuda/repos/ubuntu1804/x86_64  InRelease\n",
            "Get:3 http://ppa.launchpad.net/c2d4u.team/c2d4u4.0+/ubuntu bionic InRelease [15.9 kB]\n",
            "Get:4 http://security.ubuntu.com/ubuntu bionic-security InRelease [88.7 kB]\n",
            "Hit:5 http://archive.ubuntu.com/ubuntu bionic InRelease\n",
            "Ign:6 https://developer.download.nvidia.com/compute/machine-learning/repos/ubuntu1804/x86_64  InRelease\n",
            "Get:7 https://developer.download.nvidia.com/compute/cuda/repos/ubuntu1804/x86_64  Release [697 B]\n",
            "Hit:8 https://developer.download.nvidia.com/compute/machine-learning/repos/ubuntu1804/x86_64  Release\n",
            "Get:9 https://developer.download.nvidia.com/compute/cuda/repos/ubuntu1804/x86_64  Release.gpg [836 B]\n",
            "Get:10 http://archive.ubuntu.com/ubuntu bionic-updates InRelease [88.7 kB]\n",
            "Get:11 https://cloud.r-project.org/bin/linux/ubuntu bionic-cran40/ Packages [55.5 kB]\n",
            "Hit:12 http://ppa.launchpad.net/cran/libgit2/ubuntu bionic InRelease\n",
            "Get:13 http://archive.ubuntu.com/ubuntu bionic-backports InRelease [74.6 kB]\n",
            "Hit:14 http://ppa.launchpad.net/deadsnakes/ppa/ubuntu bionic InRelease\n",
            "Get:15 http://ppa.launchpad.net/graphics-drivers/ppa/ubuntu bionic InRelease [21.3 kB]\n",
            "Ign:17 https://developer.download.nvidia.com/compute/cuda/repos/ubuntu1804/x86_64  Packages\n",
            "Get:17 https://developer.download.nvidia.com/compute/cuda/repos/ubuntu1804/x86_64  Packages [770 kB]\n",
            "Get:18 http://ppa.launchpad.net/c2d4u.team/c2d4u4.0+/ubuntu bionic/main Sources [1,759 kB]\n",
            "Get:19 http://archive.ubuntu.com/ubuntu bionic-updates/universe amd64 Packages [2,182 kB]\n",
            "Get:20 http://ppa.launchpad.net/c2d4u.team/c2d4u4.0+/ubuntu bionic/main amd64 Packages [900 kB]\n",
            "Get:21 http://archive.ubuntu.com/ubuntu bionic-updates/main amd64 Packages [2,550 kB]\n",
            "Get:22 http://ppa.launchpad.net/graphics-drivers/ppa/ubuntu bionic/main amd64 Packages [49.5 kB]\n",
            "Fetched 8,561 kB in 3s (2,543 kB/s)\n",
            "Reading package lists... Done\n",
            "Reading package lists... Done\n",
            "Building dependency tree       \n",
            "Reading state information... Done\n",
            "The following package was automatically installed and is no longer required:\n",
            "  libnvidia-common-460\n",
            "Use 'apt autoremove' to remove it.\n",
            "The following additional packages will be installed:\n",
            "  chromium-browser chromium-browser-l10n chromium-codecs-ffmpeg-extra\n",
            "Suggested packages:\n",
            "  webaccounts-chromium-extension unity-chromium-extension\n",
            "The following NEW packages will be installed:\n",
            "  chromium-browser chromium-browser-l10n chromium-chromedriver\n",
            "  chromium-codecs-ffmpeg-extra\n",
            "0 upgraded, 4 newly installed, 0 to remove and 55 not upgraded.\n",
            "Need to get 86.6 MB of archives.\n",
            "After this operation, 300 MB of additional disk space will be used.\n",
            "Get:1 http://archive.ubuntu.com/ubuntu bionic-updates/universe amd64 chromium-codecs-ffmpeg-extra amd64 90.0.4430.72-0ubuntu0.18.04.1 [1,128 kB]\n",
            "Get:2 http://archive.ubuntu.com/ubuntu bionic-updates/universe amd64 chromium-browser amd64 90.0.4430.72-0ubuntu0.18.04.1 [76.9 MB]\n",
            "Get:3 http://archive.ubuntu.com/ubuntu bionic-updates/universe amd64 chromium-browser-l10n all 90.0.4430.72-0ubuntu0.18.04.1 [3,858 kB]\n",
            "Get:4 http://archive.ubuntu.com/ubuntu bionic-updates/universe amd64 chromium-chromedriver amd64 90.0.4430.72-0ubuntu0.18.04.1 [4,743 kB]\n",
            "Fetched 86.6 MB in 3s (28.6 MB/s)\n",
            "Selecting previously unselected package chromium-codecs-ffmpeg-extra.\n",
            "(Reading database ... 160706 files and directories currently installed.)\n",
            "Preparing to unpack .../chromium-codecs-ffmpeg-extra_90.0.4430.72-0ubuntu0.18.04.1_amd64.deb ...\n",
            "Unpacking chromium-codecs-ffmpeg-extra (90.0.4430.72-0ubuntu0.18.04.1) ...\n",
            "Selecting previously unselected package chromium-browser.\n",
            "Preparing to unpack .../chromium-browser_90.0.4430.72-0ubuntu0.18.04.1_amd64.deb ...\n",
            "Unpacking chromium-browser (90.0.4430.72-0ubuntu0.18.04.1) ...\n",
            "Selecting previously unselected package chromium-browser-l10n.\n",
            "Preparing to unpack .../chromium-browser-l10n_90.0.4430.72-0ubuntu0.18.04.1_all.deb ...\n",
            "Unpacking chromium-browser-l10n (90.0.4430.72-0ubuntu0.18.04.1) ...\n",
            "Selecting previously unselected package chromium-chromedriver.\n",
            "Preparing to unpack .../chromium-chromedriver_90.0.4430.72-0ubuntu0.18.04.1_amd64.deb ...\n",
            "Unpacking chromium-chromedriver (90.0.4430.72-0ubuntu0.18.04.1) ...\n",
            "Setting up chromium-codecs-ffmpeg-extra (90.0.4430.72-0ubuntu0.18.04.1) ...\n",
            "Setting up chromium-browser (90.0.4430.72-0ubuntu0.18.04.1) ...\n",
            "update-alternatives: using /usr/bin/chromium-browser to provide /usr/bin/x-www-browser (x-www-browser) in auto mode\n",
            "update-alternatives: using /usr/bin/chromium-browser to provide /usr/bin/gnome-www-browser (gnome-www-browser) in auto mode\n",
            "Setting up chromium-chromedriver (90.0.4430.72-0ubuntu0.18.04.1) ...\n",
            "Setting up chromium-browser-l10n (90.0.4430.72-0ubuntu0.18.04.1) ...\n",
            "Processing triggers for man-db (2.8.3-2ubuntu0.1) ...\n",
            "Processing triggers for hicolor-icon-theme (0.17-2) ...\n",
            "Processing triggers for mime-support (3.60ubuntu1) ...\n",
            "Processing triggers for libc-bin (2.27-3ubuntu1.2) ...\n",
            "/sbin/ldconfig.real: /usr/local/lib/python3.7/dist-packages/ideep4py/lib/libmkldnn.so.0 is not a symbolic link\n",
            "\n",
            "cp: '/usr/lib/chromium-browser/chromedriver' and '/usr/bin/chromedriver' are the same file\n"
          ],
          "name": "stdout"
        }
      ]
    },
    {
      "cell_type": "markdown",
      "metadata": {
        "id": "CiugFoDKXoZI"
      },
      "source": [
        "Ler o arquivo JSON de mesorregiões"
      ]
    },
    {
      "cell_type": "code",
      "metadata": {
        "id": "e9154tSZXLZG"
      },
      "source": [
        "#parametros entrada\n",
        "\n",
        "br_meso = 'mesorregiao.json'\n",
        "geo_json_data = json.load(open(br_meso))\n",
        "nil = gpd.read_file(br_meso)\n",
        "\n",
        "\n"
      ],
      "execution_count": 3,
      "outputs": []
    },
    {
      "cell_type": "markdown",
      "metadata": {
        "id": "D5T7H3EuZwRV"
      },
      "source": [
        "Ler habitantes por mesorregião em 2011"
      ]
    },
    {
      "cell_type": "code",
      "metadata": {
        "colab": {
          "base_uri": "https://localhost:8080/"
        },
        "id": "OJ_mA-VxZkr0",
        "outputId": "e348e5d7-ad3b-45f9-fe50-c05c41cf3688"
      },
      "source": [
        "# Cria data frame para habitantes por Mesorregião em 2011\n",
        "POP_D = pd.read_csv('tutorial_meso_2011_POP' + '.csv', usecols=['MESO','QUANT'])\n",
        "POP_D.rename(columns={\n",
        "    'MESO': 'id', \n",
        "    'QUANT': 'qty'}, inplace=True)\n",
        "\n",
        "POP_D=POP_D[POP_D['id'] != 'Grand Total']\n",
        "POP_RJ=POP_D\n",
        "POP_RJ=POP_RJ[POP_RJ['id'] == 'METROPOLITANA DO RIO DE JANEIRO']\n",
        "POP_RJ.rename(columns={\n",
        "    'id': 'MESO'}, inplace=True)\n",
        "NIL_POP_RJ=nil.merge(POP_RJ,on=\"MESO\")\n",
        "\n",
        "\n",
        "POP_SP=POP_D\n",
        "POP_SP=POP_SP[POP_SP['id'] == 'METROPOLITANA DE SAO PAULO']\n",
        "POP_SP.rename(columns={\n",
        "    'id': 'MESO'}, inplace=True)\n",
        "NIL_POP_SP=nil.merge(POP_SP,on=\"MESO\")\n",
        "\n",
        "\n",
        "POP_D=POP_D[POP_D['id'] != 'METROPOLITANA DO RIO DE JANEIRO']\n",
        "POP_D=POP_D[POP_D['id'] != 'METROPOLITANA DE SAO PAULO']\n",
        "\n",
        "print(POP_D)\n",
        "print(POP_SP)\n",
        "print(POP_RJ)\n"
      ],
      "execution_count": 4,
      "outputs": [
        {
          "output_type": "stream",
          "text": [
            "                                id       qty\n",
            "0                 AGRESTE ALAGOANO   626.576\n",
            "1                AGRESTE PARAIBANO  1217.956\n",
            "2             AGRESTE PERNAMBUCANO  2235.821\n",
            "3                 AGRESTE POTIGUAR   429.786\n",
            "4                AGRESTE SERGIPANO   449.405\n",
            "..                             ...       ...\n",
            "132                 VALE DO MUCURI   385.771\n",
            "133       VALE DO PARAIBA PAULISTA  2285.509\n",
            "134               VALE DO RIO DOCE  1627.652\n",
            "135  VALE SAO-FRANCISCANO DA BAHIA   971.131\n",
            "136                   ZONA DA MATA  2184.312\n",
            "\n",
            "[135 rows x 2 columns]\n",
            "                          MESO        qty\n",
            "60  METROPOLITANA DE SAO PAULO  21305.308\n",
            "                               MESO        qty\n",
            "61  METROPOLITANA DO RIO DE JANEIRO  12657.734\n"
          ],
          "name": "stdout"
        },
        {
          "output_type": "stream",
          "text": [
            "/usr/local/lib/python3.7/dist-packages/pandas/core/frame.py:4308: SettingWithCopyWarning: \n",
            "A value is trying to be set on a copy of a slice from a DataFrame\n",
            "\n",
            "See the caveats in the documentation: https://pandas.pydata.org/pandas-docs/stable/user_guide/indexing.html#returning-a-view-versus-a-copy\n",
            "  errors=errors,\n"
          ],
          "name": "stderr"
        }
      ]
    },
    {
      "cell_type": "markdown",
      "metadata": {
        "id": "DhTGZzwbaE8H"
      },
      "source": [
        "Ler habitantes por mesorregião em 2019\n"
      ]
    },
    {
      "cell_type": "code",
      "metadata": {
        "colab": {
          "base_uri": "https://localhost:8080/"
        },
        "id": "7NwPI-raaFkv",
        "outputId": "dd5a0b92-f6dd-4b23-c7e0-4bd8c66ae442"
      },
      "source": [
        "# Cria data frame para habitantes por Mesorregião em 2019\n",
        "POP_D_19 = pd.read_csv('tutorial_meso_2019_POP' + '.csv', usecols=['MESO','QUANT'])\n",
        "POP_D_19.rename(columns={\n",
        "    'MESO': 'id', \n",
        "    'QUANT': 'qty'}, inplace=True)\n",
        "\n",
        "POP_D_19=POP_D_19[POP_D_19['id'] != 'Grand Total']\n",
        "POP_RJ_19=POP_D_19\n",
        "POP_RJ_19=POP_RJ_19[POP_RJ_19['id'] == 'METROPOLITANA DO RIO DE JANEIRO']\n",
        "POP_RJ_19.rename(columns={\n",
        "    'id': 'MESO'}, inplace=True)\n",
        "NIL_POP_RJ_19=nil.merge(POP_RJ_19,on=\"MESO\")\n",
        "\n",
        "\n",
        "POP_SP_19=POP_D_19\n",
        "POP_SP_19=POP_SP_19[POP_SP_19['id'] == 'METROPOLITANA DE SAO PAULO']\n",
        "POP_SP_19.rename(columns={\n",
        "    'id': 'MESO'}, inplace=True)\n",
        "NIL_POP_SP_19=nil.merge(POP_SP_19,on=\"MESO\")\n",
        "\n",
        "\n",
        "POP_D_19=POP_D_19[POP_D_19['id'] != 'METROPOLITANA DO RIO DE JANEIRO']\n",
        "POP_D_19=POP_D_19[POP_D_19['id'] != 'METROPOLITANA DE SAO PAULO']\n",
        "\n",
        "print(POP_D_19)\n",
        "print(POP_SP_19)\n",
        "print(POP_RJ_19)\n"
      ],
      "execution_count": 5,
      "outputs": [
        {
          "output_type": "stream",
          "text": [
            "                                id       qty\n",
            "0                 AGRESTE ALAGOANO   659.101\n",
            "1                AGRESTE PARAIBANO  1269.391\n",
            "2             AGRESTE PERNAMBUCANO  2412.364\n",
            "3                 AGRESTE POTIGUAR   462.658\n",
            "4                AGRESTE SERGIPANO   482.119\n",
            "..                             ...       ...\n",
            "132                 VALE DO MUCURI   393.985\n",
            "133       VALE DO PARAIBA PAULISTA  2552.610\n",
            "134               VALE DO RIO DOCE  1709.266\n",
            "135  VALE SAO-FRANCISCANO DA BAHIA  1036.299\n",
            "136                   ZONA DA MATA  2311.547\n",
            "\n",
            "[135 rows x 2 columns]\n",
            "                          MESO        qty\n",
            "60  METROPOLITANA DE SAO PAULO  23373.277\n",
            "                               MESO        qty\n",
            "61  METROPOLITANA DO RIO DE JANEIRO  13441.326\n"
          ],
          "name": "stdout"
        },
        {
          "output_type": "stream",
          "text": [
            "/usr/local/lib/python3.7/dist-packages/pandas/core/frame.py:4308: SettingWithCopyWarning: \n",
            "A value is trying to be set on a copy of a slice from a DataFrame\n",
            "\n",
            "See the caveats in the documentation: https://pandas.pydata.org/pandas-docs/stable/user_guide/indexing.html#returning-a-view-versus-a-copy\n",
            "  errors=errors,\n"
          ],
          "name": "stderr"
        }
      ]
    },
    {
      "cell_type": "markdown",
      "metadata": {
        "id": "Ojas9zv9bXw6"
      },
      "source": [
        "Mapa de Habitantes por mesorregião em 2011"
      ]
    },
    {
      "cell_type": "code",
      "metadata": {
        "id": "vQGBDaa6Glbp",
        "colab": {
          "base_uri": "https://localhost:8080/"
        },
        "outputId": "506659de-b2f9-4c9a-9fbc-a4051005bb83"
      },
      "source": [
        "# Mapa População\n",
        "mapa_POP_D = folium.Map(\n",
        "    width=800, height=600,\n",
        "    location=[-16.1237611, -59.9219642], \n",
        "    tiles='http://tile.stamen.com/toner-lite/{z}/{x}/{y}.png ', \n",
        "    attr=\"toner-bcg\",\n",
        "    zoom_start=4\n",
        ")\n",
        "folium.GeoJson(geo_json_data).add_to(mapa_POP_D)\n",
        "\n",
        "\n",
        "\n"
      ],
      "execution_count": 7,
      "outputs": [
        {
          "output_type": "execute_result",
          "data": {
            "text/plain": [
              "<folium.features.GeoJson at 0x7f829a30ae10>"
            ]
          },
          "metadata": {
            "tags": []
          },
          "execution_count": 7
        }
      ]
    },
    {
      "cell_type": "markdown",
      "metadata": {
        "id": "eOe2_nLkcJmS"
      },
      "source": [
        "Mapa apenas com as mesorregiões - sem dados de habitantes"
      ]
    },
    {
      "cell_type": "code",
      "metadata": {
        "id": "hMXL0DIKb0Wx"
      },
      "source": [
        "mapa_POP_D"
      ],
      "execution_count": null,
      "outputs": []
    },
    {
      "cell_type": "markdown",
      "metadata": {
        "id": "ZfSOyzQrcR03"
      },
      "source": [
        "Mapa apenas com as regiões de até 7000 habitantes"
      ]
    },
    {
      "cell_type": "code",
      "metadata": {
        "colab": {
          "base_uri": "https://localhost:8080/"
        },
        "id": "8tlPs_Hnb1It",
        "outputId": "743f554f-549c-4692-da2a-b0a309b267ea"
      },
      "source": [
        "\n",
        "import plotly.express as px\n",
        "\n",
        "#myscale = (POP_D['qty'].quantile(([0, 0.25, 0.50, 0.75, 0.95, 1]))).tolist()\n",
        "myscale =[1, 100, 500, 1000, 2000, 3000, 4000, 5000, 6000, 7000]\n",
        "\n",
        "folium.Choropleth(\n",
        "    geo_data=geo_json_data,\n",
        "    name='População por Mesorregião',\n",
        "    data=POP_D,\n",
        "    columns=['id','qty'],\n",
        "    key_on='feature.properties.MESO',\n",
        "    fill_color='PuBu',\n",
        "    threshold_scale=myscale,\n",
        "    control_scale=True,\n",
        "    fill_opacity=1,\n",
        "    line_opacity=1,\n",
        "    line_color='black',\n",
        "    line_weight=1,\n",
        "    outer_line_color='green',\n",
        "    legend_name='População (em mil habitantes)',\n",
        "    nan_fill_color = 'white',\n",
        "    nan_fill_opacity=0.1,\n",
        "    reset=True\n",
        ").add_to(mapa_POP_D)\n",
        "\n"
      ],
      "execution_count": 9,
      "outputs": [
        {
          "output_type": "execute_result",
          "data": {
            "text/plain": [
              "<folium.features.Choropleth at 0x7f82998cf9d0>"
            ]
          },
          "metadata": {
            "tags": []
          },
          "execution_count": 9
        }
      ]
    },
    {
      "cell_type": "code",
      "metadata": {
        "id": "WjQcpMo9clrt"
      },
      "source": [
        "mapa_POP_D"
      ],
      "execution_count": null,
      "outputs": []
    },
    {
      "cell_type": "markdown",
      "metadata": {
        "id": "RuCRThGdd0-h"
      },
      "source": [
        "Adicionando as categorias de Regiões Metropolitanas de São Paulo e Rio de Janeiro"
      ]
    },
    {
      "cell_type": "code",
      "metadata": {
        "id": "fp-3E4G4cagG"
      },
      "source": [
        "if (not NIL_POP_SP.empty):\n",
        "  style_function = lambda x: {'fillColor': 'darkgreen', \n",
        "                            'color':'green', \n",
        "                            'fillOpacity': 1.0, \n",
        "                            'weight': 1.0\n",
        "                            }\n",
        "  highlight_function = lambda x: {'fillColor': 'darkgreen', \n",
        "                                'color':'green', \n",
        "                                'fillOpacity': 1.0, \n",
        "                               'weight': 1.0\n",
        "                                }\n",
        "\n",
        "  mapa_POP_SP = folium.features.GeoJson(\n",
        "    NIL_POP_SP,\n",
        "    style_function=style_function, \n",
        "    control=False,\n",
        "    highlight_function=highlight_function\n",
        "  )\n",
        "  mapa_POP_D.add_child(mapa_POP_SP)\n",
        "  mapa_POP_D.keep_in_front(mapa_POP_SP)\n",
        "\n",
        "if (not NIL_POP_RJ.empty):\n",
        "  style_function = lambda x: {'fillColor': '#00ff00', \n",
        "                            'color':'#00ff00', \n",
        "                            'fillOpacity': 1.0, \n",
        "                            'weight': 1.0\n",
        "                            }\n",
        "  highlight_function = lambda x: {'fillColor': '#00ff00', \n",
        "                                'color':'#00ff00', \n",
        "                                'fillOpacity': 1.0, \n",
        "                               'weight': 1.0\n",
        "                                }\n",
        "\n",
        "  mapa_POP_RJ = folium.features.GeoJson(\n",
        "    NIL_POP_RJ,\n",
        "    style_function=style_function, \n",
        "    control=False,\n",
        "    highlight_function=highlight_function\n",
        "  )\n",
        "  mapa_POP_D.add_child(mapa_POP_RJ)\n",
        "  mapa_POP_D.keep_in_front(mapa_POP_RJ)\n",
        "\n"
      ],
      "execution_count": 11,
      "outputs": []
    },
    {
      "cell_type": "code",
      "metadata": {
        "id": "CKzaWS1keEFj"
      },
      "source": [
        "mapa_POP_D"
      ],
      "execution_count": null,
      "outputs": []
    },
    {
      "cell_type": "markdown",
      "metadata": {
        "id": "U1nNXOzVeP1w"
      },
      "source": [
        "Adicionando a legenda das categorias"
      ]
    },
    {
      "cell_type": "code",
      "metadata": {
        "id": "LwVM_a_7eBJD"
      },
      "source": [
        "#colorhexa.com\n",
        "legend_html = '''\n",
        "{% macro html(this, kwargs) %}\n",
        "<div style=\"\n",
        "    position: fixed; \n",
        "    bottom: 50px;\n",
        "    right: 10px;\n",
        "    width: 250px;\n",
        "    height: 100px;\n",
        "    z-index:9999;\n",
        "    font-size:11px;\n",
        "    \">\n",
        "    <p><a style=\"color:#006700;font-size:200%;margin-left:20px;\">&diams;</a>&emsp;RM SP ~21,3 milhões hab. </p>\n",
        "    <p><a style=\"color:#00ff00;font-size:200%;margin-left:20px;\">&diams;</a>&emsp;RM RJ ~12,6 milhões hab.</p>\n",
        "</div>\n",
        "<div style=\"\n",
        "    position: fixed; \n",
        "    bottom: 50px;\n",
        "    right: 10px;\n",
        "    width: 250px;\n",
        "    height: 100px; \n",
        "    z-index:9998;\n",
        "    font-size:11px;\n",
        "    background-color: #ffffff;\n",
        "\n",
        "    opacity: 0.7;\n",
        "    \">\n",
        "</div>\n",
        "{% endmacro %}\n",
        "'''\n",
        "legend = branca.element.MacroElement()\n",
        "legend._template = branca.element.Template(legend_html)\n",
        "\n",
        "folium.LayerControl().add_to(mapa_POP_D)\n",
        "mapa_POP_D.get_root().add_child(legend)\n",
        "\n",
        "\n"
      ],
      "execution_count": null,
      "outputs": []
    },
    {
      "cell_type": "code",
      "metadata": {
        "id": "i8LpHQjhehsE"
      },
      "source": [
        "mapa_POP_D"
      ],
      "execution_count": null,
      "outputs": []
    },
    {
      "cell_type": "markdown",
      "metadata": {
        "id": "-w12im7Kecz5"
      },
      "source": [
        "Salvando o mapa em html e PNG"
      ]
    },
    {
      "cell_type": "code",
      "metadata": {
        "id": "JdK-1TqyeYSd"
      },
      "source": [
        "fn='sample_data/index_pop.html'\n",
        "mapa_POP_D.save(fn)\n",
        "\n",
        "for x in range(0,1):\n",
        " delay = 10\n",
        " time.sleep(delay)\n",
        " options = webdriver.ChromeOptions()\n",
        " options.add_argument('--headless')\n",
        " options.add_argument('--no-sandbox')\n",
        " options.add_argument('--disable-dev-shm-usage')\n",
        " options.add_argument('--disable-application-cache')\n",
        " tmpurl='file://{path}/{mapfile}'.format(path=os.getcwd(),mapfile=fn)\n",
        " # open it, go to a website, and get results\n",
        " browser = webdriver.Chrome('chromedriver',options=options)\n",
        " browser.get(tmpurl)\n",
        " #Give the map tiles some time to load\n",
        " time.sleep(delay)\n",
        " browser.save_screenshot('2011_POP.png')\n",
        " browser.delete_all_cookies\n",
        " browser.quit()"
      ],
      "execution_count": 15,
      "outputs": []
    },
    {
      "cell_type": "markdown",
      "metadata": {
        "id": "cbx_bnDGfNPd"
      },
      "source": [
        "Geração do Mapa de Habitantes de 2019 em um único passo (repetindo as mesmas atividades anteriores)"
      ]
    },
    {
      "cell_type": "code",
      "metadata": {
        "id": "3jLRBcyCfYz6"
      },
      "source": [
        "# Mapa População 2019\n",
        "mapa_POP_D_19 = folium.Map(\n",
        "    width=800, height=600,\n",
        "    location=[-16.1237611, -59.9219642], \n",
        "    tiles='http://tile.stamen.com/toner-lite/{z}/{x}/{y}.png ', \n",
        "    attr=\"toner-bcg\",\n",
        "    zoom_start=4\n",
        ")\n",
        "folium.GeoJson(geo_json_data).add_to(mapa_POP_D_19)\n",
        "\n",
        "import plotly.express as px\n",
        "\n",
        "#myscale = (POP_D['qty'].quantile(([0, 0.25, 0.50, 0.75, 0.95, 1]))).tolist()\n",
        "myscale =[1, 100, 500, 1000, 2000, 3000, 4000, 5000, 6000, 7000]\n",
        "\n",
        "folium.Choropleth(\n",
        "    geo_data=geo_json_data,\n",
        "    name='População por Mesorregião',\n",
        "    data=POP_D_19,\n",
        "    columns=['id','qty'],\n",
        "    key_on='feature.properties.MESO',\n",
        "    fill_color='PuBu',\n",
        "    threshold_scale=myscale,\n",
        "    control_scale=True,\n",
        "    fill_opacity=1,\n",
        "    line_opacity=1,\n",
        "    line_color='black',\n",
        "    line_weight=1,\n",
        "    outer_line_color='green',\n",
        "    legend_name='População (em mil habitantes)',\n",
        "    nan_fill_color = 'white',\n",
        "    nan_fill_opacity=0.1,\n",
        "    reset=True\n",
        ").add_to(mapa_POP_D_19)\n",
        "\n",
        "if (not NIL_POP_SP_19.empty):\n",
        "  style_function = lambda x: {'fillColor': 'darkgreen', \n",
        "                            'color':'green', \n",
        "                            'fillOpacity': 1.0, \n",
        "                            'weight': 1.0\n",
        "                            }\n",
        "  highlight_function = lambda x: {'fillColor': 'darkgreen', \n",
        "                                'color':'green', \n",
        "                                'fillOpacity': 1.0, \n",
        "                               'weight': 1.0\n",
        "                                }\n",
        "\n",
        "  mapa_POP_SP_19 = folium.features.GeoJson(\n",
        "    NIL_POP_SP_19,\n",
        "    style_function=style_function, \n",
        "    control=False,\n",
        "    highlight_function=highlight_function\n",
        "  )\n",
        "  mapa_POP_D_19.add_child(mapa_POP_SP_19)\n",
        "  mapa_POP_D_19.keep_in_front(mapa_POP_SP_19)\n",
        "\n",
        "if (not NIL_POP_RJ_19.empty):\n",
        "  style_function = lambda x: {'fillColor': '#00ff00', \n",
        "                            'color':'#00ff00', \n",
        "                            'fillOpacity': 1.0, \n",
        "                            'weight': 1.0\n",
        "                            }\n",
        "  highlight_function = lambda x: {'fillColor': '#00ff00', \n",
        "                                'color':'#00ff00', \n",
        "                                'fillOpacity': 1.0, \n",
        "                               'weight': 1.0\n",
        "                                }\n",
        "\n",
        "  mapa_POP_RJ_19 = folium.features.GeoJson(\n",
        "    NIL_POP_RJ_19,\n",
        "    style_function=style_function, \n",
        "    control=False,\n",
        "    highlight_function=highlight_function\n",
        "  )\n",
        "  mapa_POP_D_19.add_child(mapa_POP_RJ_19)\n",
        "  mapa_POP_D_19.keep_in_front(mapa_POP_RJ_19)\n",
        "\n",
        "#colorhexa.com\n",
        "legend_html_19 = '''\n",
        "{% macro html(this, kwargs) %}\n",
        "<div style=\"\n",
        "    position: fixed; \n",
        "    bottom: 50px;\n",
        "    right: 10px;\n",
        "    width: 250px;\n",
        "    height: 100px;\n",
        "    z-index:9999;\n",
        "    font-size:11px;\n",
        "    \">\n",
        "    <p><a style=\"color:#006700;font-size:200%;margin-left:20px;\">&diams;</a>&emsp;RM SP ~24,5 milhões hab. </p>\n",
        "    <p><a style=\"color:#00ff00;font-size:200%;margin-left:20px;\">&diams;</a>&emsp;RM RJ ~14,5 milhões hab.</p>\n",
        "</div>\n",
        "<div style=\"\n",
        "    position: fixed; \n",
        "    bottom: 50px;\n",
        "    right: 10px;\n",
        "    width: 250px;\n",
        "    height: 100px; \n",
        "    z-index:9998;\n",
        "    font-size:11px;\n",
        "    background-color: #ffffff;\n",
        "\n",
        "    opacity: 0.7;\n",
        "    \">\n",
        "</div>\n",
        "{% endmacro %}\n",
        "'''\n",
        "legend = branca.element.MacroElement()\n",
        "legend._template = branca.element.Template(legend_html_19)\n",
        "\n",
        "folium.LayerControl().add_to(mapa_POP_D_19)\n",
        "mapa_POP_D_19.get_root().add_child(legend)\n",
        "\n",
        "fn='sample_data/index_pop_19.html'\n",
        "mapa_POP_D_19.save(fn)\n",
        "\n",
        "for x in range(0,1):\n",
        " delay = 10\n",
        " time.sleep(delay)\n",
        " options = webdriver.ChromeOptions()\n",
        " options.add_argument('--headless')\n",
        " options.add_argument('--no-sandbox')\n",
        " options.add_argument('--disable-dev-shm-usage')\n",
        " options.add_argument('--disable-application-cache')\n",
        " tmpurl='file://{path}/{mapfile}'.format(path=os.getcwd(),mapfile=fn)\n",
        " # open it, go to a website, and get results\n",
        " browser = webdriver.Chrome('chromedriver',options=options)\n",
        " browser.get(tmpurl)\n",
        " #Give the map tiles some time to load\n",
        " time.sleep(delay)\n",
        " browser.save_screenshot('2019_POP.png')\n",
        " browser.delete_all_cookies\n",
        " browser.quit()\n"
      ],
      "execution_count": 19,
      "outputs": []
    },
    {
      "cell_type": "code",
      "metadata": {
        "id": "x2ZGBA5jgb9m"
      },
      "source": [
        "mapa_POP_D_19"
      ],
      "execution_count": null,
      "outputs": []
    }
  ]
}